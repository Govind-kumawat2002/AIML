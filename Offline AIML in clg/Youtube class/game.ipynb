{
 "cells": [
  {
   "cell_type": "code",
   "execution_count": 1,
   "metadata": {},
   "outputs": [
    {
     "name": "stderr",
     "output_type": "stream",
     "text": [
      "ERROR: unknown command \"pygame\"\n",
      "\n"
     ]
    }
   ],
   "source": [
    "!python -m pip pygame"
   ]
  },
  {
   "cell_type": "code",
   "execution_count": 2,
   "metadata": {},
   "outputs": [
    {
     "name": "stdout",
     "output_type": "stream",
     "text": [
      "pygame 2.5.1 (SDL 2.28.2, Python 3.10.11)\n",
      "Hello from the pygame community. https://www.pygame.org/contribute.html\n"
     ]
    },
    {
     "ename": "KeyboardInterrupt",
     "evalue": "",
     "output_type": "error",
     "traceback": [
      "\u001b[1;31m---------------------------------------------------------------------------\u001b[0m",
      "\u001b[1;31mKeyboardInterrupt\u001b[0m                         Traceback (most recent call last)",
      "Cell \u001b[1;32mIn[2], line 40\u001b[0m\n\u001b[0;32m     38\u001b[0m     window\u001b[39m.\u001b[39mfill((\u001b[39m0\u001b[39m, \u001b[39m0\u001b[39m, \u001b[39m0\u001b[39m))\n\u001b[0;32m     39\u001b[0m     pygame\u001b[39m.\u001b[39mdraw\u001b[39m.\u001b[39mcircle(window, (\u001b[39m255\u001b[39m, \u001b[39m255\u001b[39m, \u001b[39m255\u001b[39m), (ball_x, ball_y), ball_radius)\n\u001b[1;32m---> 40\u001b[0m     pygame\u001b[39m.\u001b[39;49mdisplay\u001b[39m.\u001b[39;49mflip()\n\u001b[0;32m     42\u001b[0m \u001b[39m# Quit the game\u001b[39;00m\n\u001b[0;32m     43\u001b[0m pygame\u001b[39m.\u001b[39mquit()\n",
      "\u001b[1;31mKeyboardInterrupt\u001b[0m: "
     ]
    }
   ],
   "source": [
    "import pygame\n",
    "\n",
    "# Initialize pygame\n",
    "pygame.init()\n",
    "\n",
    "# Set up the game window\n",
    "window_width = 800\n",
    "window_height = 600\n",
    "window = pygame.display.set_mode((window_width, window_height))\n",
    "pygame.display.set_caption(\"My Game\")\n",
    "\n",
    "# Set up the ball\n",
    "ball_radius = 20\n",
    "ball_x = window_width // 2\n",
    "ball_y = window_height // 2\n",
    "ball_speed = 5\n",
    "\n",
    "# Game loop\n",
    "running = True\n",
    "while running:\n",
    "    # Handle events\n",
    "    for event in pygame.event.get():\n",
    "        if event.type == pygame.QUIT:\n",
    "            running = False\n",
    "\n",
    "    # Move the ball based on keyboard input\n",
    "    keys = pygame.key.get_pressed()\n",
    "    if keys[pygame.K_LEFT]:\n",
    "        ball_x -= ball_speed\n",
    "    if keys[pygame.K_RIGHT]:\n",
    "        ball_x += ball_speed\n",
    "    if keys[pygame.K_UP]:\n",
    "        ball_y -= ball_speed\n",
    "    if keys[pygame.K_DOWN]:\n",
    "        ball_y += ball_speed\n",
    "\n",
    "    # Update the game window\n",
    "    window.fill((0, 0, 0))\n",
    "    pygame.draw.circle(window, (255, 255, 255), (ball_x, ball_y), ball_radius)\n",
    "    pygame.display.flip()\n",
    "\n",
    "# Quit the game\n",
    "pygame.quit()\n"
   ]
  },
  {
   "cell_type": "code",
   "execution_count": null,
   "metadata": {},
   "outputs": [],
   "source": []
  }
 ],
 "metadata": {
  "kernelspec": {
   "display_name": "Python 3",
   "language": "python",
   "name": "python3"
  },
  "language_info": {
   "codemirror_mode": {
    "name": "ipython",
    "version": 3
   },
   "file_extension": ".py",
   "mimetype": "text/x-python",
   "name": "python",
   "nbconvert_exporter": "python",
   "pygments_lexer": "ipython3",
   "version": "3.10.11"
  },
  "orig_nbformat": 4
 },
 "nbformat": 4,
 "nbformat_minor": 2
}
