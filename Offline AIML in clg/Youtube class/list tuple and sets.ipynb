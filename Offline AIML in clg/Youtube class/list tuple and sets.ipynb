{
 "cells": [
  {
   "attachments": {},
   "cell_type": "markdown",
   "metadata": {},
   "source": [
    "# list\n",
    "...A tuple is an ordered collection of data.\n",
    "list are not start to 0. it is from 1"
   ]
  },
  {
   "cell_type": "code",
   "execution_count": 59,
   "metadata": {},
   "outputs": [
    {
     "name": "stdout",
     "output_type": "stream",
     "text": [
      "course\n"
     ]
    }
   ],
   "source": [
    "course = ['Maths','Biology']\n",
    "print('course')"
   ]
  },
  {
   "cell_type": "code",
   "execution_count": 60,
   "metadata": {},
   "outputs": [
    {
     "name": "stdout",
     "output_type": "stream",
     "text": [
      "2\n"
     ]
    }
   ],
   "source": [
    "course = ['Maths','Biology']\n",
    "print(len(course))    # len function we are used to count of words in list  "
   ]
  },
  {
   "cell_type": "code",
   "execution_count": 61,
   "metadata": {},
   "outputs": [
    {
     "name": "stdout",
     "output_type": "stream",
     "text": [
      "Maths\n"
     ]
    }
   ],
   "source": [
    "course = ['Maths','Biology']\n",
    "print(course[0])"
   ]
  },
  {
   "cell_type": "code",
   "execution_count": 62,
   "metadata": {},
   "outputs": [
    {
     "name": "stdout",
     "output_type": "stream",
     "text": [
      "['Maths']\n"
     ]
    }
   ],
   "source": [
    "course = ['Maths','Biology']\n",
    "print(course[0:1])    "
   ]
  },
  {
   "cell_type": "code",
   "execution_count": 63,
   "metadata": {},
   "outputs": [
    {
     "name": "stdout",
     "output_type": "stream",
     "text": [
      "['Biology']\n"
     ]
    }
   ],
   "source": [
    "course = ['Maths','Biology']\n",
    "print(course[1:])   # just bad vala word find krne ke liye "
   ]
  },
  {
   "cell_type": "code",
   "execution_count": 64,
   "metadata": {},
   "outputs": [
    {
     "name": "stdout",
     "output_type": "stream",
     "text": [
      "['arts', 'Maths', 'Biology']\n"
     ]
    }
   ],
   "source": [
    "course = ['Maths','Biology']\n",
    "course.insert(0,'arts')\n",
    "print(course)"
   ]
  },
  {
   "cell_type": "code",
   "execution_count": 65,
   "metadata": {},
   "outputs": [
    {
     "name": "stdout",
     "output_type": "stream",
     "text": [
      "[('arts', 'arts 2 '), 'Maths', 'Biology']\n"
     ]
    }
   ],
   "source": [
    "course = ['Maths','Biology']\n",
    "course_2 = 'arts','arts 2 '\n",
    "\n",
    "course.insert(0,course_2)\n",
    "print(course)"
   ]
  },
  {
   "cell_type": "code",
   "execution_count": 66,
   "metadata": {},
   "outputs": [
    {
     "name": "stdout",
     "output_type": "stream",
     "text": [
      "['Maths', 'Biology', 'arts', 'arts 2 ']\n"
     ]
    }
   ],
   "source": [
    "course = ['Maths','Biology']\n",
    "course_2 = ('arts','arts 2 ')\n",
    "\n",
    "course.extend(course_2) # extend when we are used to then hme last me elemnet  dalna hota hai kisi list me \n",
    "print(course)"
   ]
  },
  {
   "cell_type": "code",
   "execution_count": 67,
   "metadata": {},
   "outputs": [
    {
     "name": "stdout",
     "output_type": "stream",
     "text": [
      "['Maths', 'Biology', ('arts', 'arts 2 ')]\n"
     ]
    }
   ],
   "source": [
    "course = ['Maths','Biology']\n",
    "course_2 = ('arts','arts 2 ')\n",
    "\n",
    "course.append(course_2) # extend when we are used to then hme last me elemnet ko highlist krnA ho  \n",
    "print(course)"
   ]
  },
  {
   "attachments": {},
   "cell_type": "markdown",
   "metadata": {},
   "source": [
    "Remove word from the list"
   ]
  },
  {
   "cell_type": "code",
   "execution_count": 68,
   "metadata": {},
   "outputs": [
    {
     "name": "stdout",
     "output_type": "stream",
     "text": [
      "['Biology', 'Maths1', 'Biology2']\n"
     ]
    }
   ],
   "source": [
    "course = ['Maths','Biology','Maths1','Biology2'] \n",
    "course.remove('Maths')   # Remove the element from the list\n",
    "print(course)"
   ]
  },
  {
   "cell_type": "code",
   "execution_count": 69,
   "metadata": {},
   "outputs": [
    {
     "name": "stdout",
     "output_type": "stream",
     "text": [
      "['Maths', 'Biology', 'Maths1']\n"
     ]
    }
   ],
   "source": [
    "course = ['Maths','Biology','Maths1','Biology2'] \n",
    "course.pop()  \n",
    " \n",
    "# popped = course.pop()   # Remove the  last element from the list\n",
    "print(course)"
   ]
  },
  {
   "cell_type": "code",
   "execution_count": 70,
   "metadata": {},
   "outputs": [
    {
     "name": "stdout",
     "output_type": "stream",
     "text": [
      "Biology2\n"
     ]
    }
   ],
   "source": [
    "course = ['Maths','Biology','Maths1','Biology2'] \n",
    "# course.pop()  \n",
    " \n",
    "popped = course.pop()   # find  the  last element from the list\n",
    "print(popped)"
   ]
  },
  {
   "cell_type": "code",
   "execution_count": 71,
   "metadata": {},
   "outputs": [
    {
     "name": "stdout",
     "output_type": "stream",
     "text": [
      "['Biology2', 'Maths1', 'Biology', 'Maths']\n"
     ]
    }
   ],
   "source": [
    "course = ['Maths','Biology','Maths1','Biology2'] \n",
    "course.reverse()  \n",
    "print(course)  # Reverse the element from the list "
   ]
  },
  {
   "cell_type": "code",
   "execution_count": 72,
   "metadata": {},
   "outputs": [
    {
     "name": "stdout",
     "output_type": "stream",
     "text": [
      "['Biology', 'Biology2', 'Maths', 'Maths1']\n"
     ]
    }
   ],
   "source": [
    "course = ['Maths','Biology','Maths1','Biology2'] \n",
    "course.sort()  \n",
    "print(course)  # Reverse the element from the list "
   ]
  },
  {
   "cell_type": "code",
   "execution_count": 73,
   "metadata": {},
   "outputs": [
    {
     "name": "stdout",
     "output_type": "stream",
     "text": [
      "['Biology2', 'Maths1', 'Biology', 'Maths']\n",
      "['2', '3', '4', '5']\n"
     ]
    }
   ],
   "source": [
    "course = ['Maths','Biology','Maths1','Biology2'] \n",
    "course_2 = ['2','4','5','3'] \n",
    "course.reverse()\n",
    "course_2.sort()  \n",
    "print(course) \n",
    "print(course_2)  # Arrange the element "
   ]
  },
  {
   "cell_type": "code",
   "execution_count": 74,
   "metadata": {},
   "outputs": [
    {
     "name": "stdout",
     "output_type": "stream",
     "text": [
      "['Maths1', 'Maths', 'Biology2', 'Biology']\n",
      "['5', '4', '3', '2']\n"
     ]
    }
   ],
   "source": [
    "course = ['Maths','Biology','Maths1','Biology2'] \n",
    "course_2 = ['2','4','5','3'] \n",
    "course.sort(reverse= True)\n",
    "course_2.sort(reverse= True)   # so it is revers order element\n",
    "print(course) \n",
    "print(course_2) "
   ]
  },
  {
   "cell_type": "code",
   "execution_count": 75,
   "metadata": {},
   "outputs": [
    {
     "data": {
      "text/plain": [
       "['Biology', 'Biology2', 'Maths', 'Maths1']"
      ]
     },
     "execution_count": 75,
     "metadata": {},
     "output_type": "execute_result"
    }
   ],
   "source": [
    "course = ['Maths','Biology','Maths1','Biology2'] \n",
    "sorted(course) \n",
    "# print(course) # so directly we are sort of list "
   ]
  },
  {
   "cell_type": "code",
   "execution_count": 76,
   "metadata": {},
   "outputs": [
    {
     "name": "stdout",
     "output_type": "stream",
     "text": [
      "['Maths1', 'Maths', 'Biology2', 'Biology']\n",
      "14\n"
     ]
    }
   ],
   "source": [
    "course = ['Maths','Biology','Maths1','Biology2'] \n",
    "course_2 = [2,4,5,3] \n",
    "course.sort(reverse= True)\n",
    "#course_2.sort(reverse= True)   # so it is revers order element\n",
    "print(course) \n",
    "print(sum(course_2))  # sum of list element "
   ]
  },
  {
   "cell_type": "code",
   "execution_count": 77,
   "metadata": {},
   "outputs": [
    {
     "name": "stdout",
     "output_type": "stream",
     "text": [
      "14\n"
     ]
    }
   ],
   "source": [
    "course_2 = [2,4,5,3] \n",
    "print(sum(course_2))  # sum of list element "
   ]
  },
  {
   "cell_type": "code",
   "execution_count": 78,
   "metadata": {},
   "outputs": [
    {
     "name": "stdout",
     "output_type": "stream",
     "text": [
      "0\n",
      "3\n"
     ]
    }
   ],
   "source": [
    "course = ['Maths','Biology','Maths1','Biology2'] \n",
    "print (course.index('Maths'))\n",
    "print (course.index('Biology2')) # index is used for location of element in list \n",
    " "
   ]
  },
  {
   "cell_type": "code",
   "execution_count": 79,
   "metadata": {},
   "outputs": [
    {
     "name": "stdout",
     "output_type": "stream",
     "text": [
      "False\n",
      "True\n"
     ]
    }
   ],
   "source": [
    "course = ['Maths','Biology','Maths1','Biology2'] \n",
    "print('arts' in course)\n",
    "course = ['Maths','Biology','Maths1','Biology2']  # it is check that  element present in list \n",
    "print('Maths' in course)"
   ]
  },
  {
   "cell_type": "code",
   "execution_count": 80,
   "metadata": {},
   "outputs": [
    {
     "name": "stdout",
     "output_type": "stream",
     "text": [
      "Maths\n",
      "Biology\n",
      "Maths1\n",
      "Biology2\n"
     ]
    }
   ],
   "source": [
    "course = ['Maths','Biology','Maths1','Biology2'] \n",
    "for gk in course:\n",
    "   print(gk )  # which is used for value in  serise "
   ]
  },
  {
   "cell_type": "code",
   "execution_count": 81,
   "metadata": {},
   "outputs": [
    {
     "name": "stdout",
     "output_type": "stream",
     "text": [
      "(1, 'Maths')\n",
      "(2, 'Biology')\n",
      "(3, 'Maths1')\n",
      "(4, 'Biology2')\n"
     ]
    }
   ],
   "source": [
    "course = ['Maths','Biology','Maths1','Biology2'] \n",
    "for  gk in enumerate(course, start=1):  # which is used for numberic in  serise (in a costex)\n",
    "   print(gk )"
   ]
  },
  {
   "cell_type": "code",
   "execution_count": 82,
   "metadata": {},
   "outputs": [
    {
     "name": "stdout",
     "output_type": "stream",
     "text": [
      "1 Maths\n",
      "2 Biology\n",
      "3 Maths1\n",
      "4 Biology2\n"
     ]
    }
   ],
   "source": [
    "course = ['Maths','Biology','Maths1','Biology2'] \n",
    "for r, gk in enumerate(course, start=1):  # which is used for numberic in  serise (without costax)\n",
    "   print(r,gk )"
   ]
  },
  {
   "cell_type": "code",
   "execution_count": 83,
   "metadata": {},
   "outputs": [
    {
     "name": "stdout",
     "output_type": "stream",
     "text": [
      "Maths - Biology - Maths1 - Biology2\n"
     ]
    }
   ],
   "source": [
    "course = ['Maths','Biology','Maths1','Biology2'] \n",
    "course44= ' - '. join(course) # it is used for add any str in list\n",
    "print(course44)"
   ]
  },
  {
   "attachments": {},
   "cell_type": "markdown",
   "metadata": {},
   "source": [
    "# Tuple\n",
    ". A tuple is an ordered collection of data.\n",
    "tuple me apn data insert nhi krskte\n",
    "Mutable and Immutable"
   ]
  },
  {
   "cell_type": "code",
   "execution_count": 84,
   "metadata": {},
   "outputs": [
    {
     "name": "stdout",
     "output_type": "stream",
     "text": [
      "['arts', 'arts', 'Maths', 'Biology', 'Maths1', 'Biology2']\n",
      "['arts', 'arts', 'Maths', 'Biology', 'Maths1', 'Biology2']\n"
     ]
    }
   ],
   "source": [
    "list_1= ['Maths','Biology','Maths1','Biology2']\n",
    "list_2=list_1\n",
    "\n",
    "list_2.insert(0,'arts')\n",
    "list_1.insert(0,'arts')\n",
    "print(list_1)\n",
    "print(list_2)    # so list is mutable \n"
   ]
  },
  {
   "cell_type": "code",
   "execution_count": 90,
   "metadata": {},
   "outputs": [
    {
     "ename": "TypeError",
     "evalue": "'tuple' object does not support item assignment",
     "output_type": "error",
     "traceback": [
      "\u001b[1;31m---------------------------------------------------------------------------\u001b[0m",
      "\u001b[1;31mTypeError\u001b[0m                                 Traceback (most recent call last)",
      "Cell \u001b[1;32mIn[90], line 5\u001b[0m\n\u001b[0;32m      2\u001b[0m tuple_2\u001b[39m=\u001b[39mlist_1\n\u001b[0;32m      4\u001b[0m \u001b[39m#tuple_2.insert(0,'arts')\u001b[39;00m\n\u001b[1;32m----> 5\u001b[0m tuple_1[\u001b[39m0\u001b[39;49m] \u001b[39m=\u001b[39m\u001b[39m'\u001b[39m\u001b[39marts\u001b[39m\u001b[39m'\u001b[39m\n\u001b[0;32m      7\u001b[0m \u001b[39m# tuple_1.insert(0,'arts')\u001b[39;00m\n\u001b[0;32m      8\u001b[0m \u001b[39m#print(tuple_1)\u001b[39;00m\n\u001b[0;32m      9\u001b[0m \u001b[39mprint\u001b[39m(tuple_1)    \u001b[39m# so list is mutable \u001b[39;00m\n",
      "\u001b[1;31mTypeError\u001b[0m: 'tuple' object does not support item assignment"
     ]
    }
   ],
   "source": [
    "tuple_1= ('Maths','Biology','Maths1','Biology2')\n",
    "tuple_2=list_1\n",
    "\n",
    "#tuple_2.insert(0,'arts')\n",
    "tuple_1[0] ='arts'\n",
    "\n",
    "# tuple_1.insert(0,'arts')\n",
    "#print(tuple_1)\n",
    "print(tuple_1)    # so list is mutable \n"
   ]
  },
  {
   "cell_type": "code",
   "execution_count": 118,
   "metadata": {},
   "outputs": [
    {
     "ename": "TypeError",
     "evalue": "'tuple' object does not support item assignment",
     "output_type": "error",
     "traceback": [
      "\u001b[1;31m---------------------------------------------------------------------------\u001b[0m",
      "\u001b[1;31mTypeError\u001b[0m                                 Traceback (most recent call last)",
      "Cell \u001b[1;32mIn[118], line 5\u001b[0m\n\u001b[0;32m      2\u001b[0m tuple_2\u001b[39m=\u001b[39mtuple_1\n\u001b[0;32m      4\u001b[0m \u001b[39m#tuple_2.insert(0,'arts')\u001b[39;00m\n\u001b[1;32m----> 5\u001b[0m tuple_2[\u001b[39m0\u001b[39;49m] \u001b[39m=\u001b[39m\u001b[39m'\u001b[39m\u001b[39marts\u001b[39m\u001b[39m'\u001b[39m\n\u001b[0;32m      7\u001b[0m \u001b[39m# tuple_1.insert(0,'arts')\u001b[39;00m\n\u001b[0;32m      8\u001b[0m \u001b[39m#print(tuple_1)\u001b[39;00m\n\u001b[0;32m      9\u001b[0m \u001b[39mprint\u001b[39m(tuple_2)    \u001b[39m# so list is mutable \u001b[39;00m\n",
      "\u001b[1;31mTypeError\u001b[0m: 'tuple' object does not support item assignment"
     ]
    }
   ],
   "source": [
    "tuple_1= ('Maths','Biology','Maths1','Biology2')\n",
    "tuple_2=tuple_1\n",
    "\n",
    "#tuple_2.insert(0,'arts')\n",
    "tuple_2[0] ='arts'\n",
    "\n",
    "# tuple_1.insert(0,'arts')\n",
    "#print(tuple_1)\n",
    "print(tuple_2)    # so list is mutable "
   ]
  },
  {
   "attachments": {},
   "cell_type": "markdown",
   "metadata": {},
   "source": [
    " # Sets\n",
    " . A set is an unordered collection"
   ]
  },
  {
   "cell_type": "code",
   "execution_count": 100,
   "metadata": {},
   "outputs": [
    {
     "name": "stdout",
     "output_type": "stream",
     "text": [
      "{'Biology2', 'Maths1', 'Maths', 'Biology'}\n"
     ]
    }
   ],
   "source": [
    "sets_1= {'Maths','Biology','Maths1','Biology2'}   # A list is a collection of ordered data.\n",
    "                                                   \n",
    "                                                   \n",
    "print(sets_1)"
   ]
  },
  {
   "cell_type": "code",
   "execution_count": 103,
   "metadata": {},
   "outputs": [
    {
     "name": "stdout",
     "output_type": "stream",
     "text": [
      "{'Biology2', 'Maths1', 'Maths', 'Biology'}\n"
     ]
    }
   ],
   "source": [
    "sets_1= {'Maths','Biology','Maths1','Biology2','Biology2'}   # A list is a collection of ordered data.\n",
    "                                                   \n",
    "                      # it is not represent a same value so the biology2 are not found in output\n",
    "\n",
    "                      #   esme apn condisition used kr skte hai                              \n",
    "print(sets_1)"
   ]
  },
  {
   "cell_type": "code",
   "execution_count": 105,
   "metadata": {},
   "outputs": [
    {
     "name": "stdout",
     "output_type": "stream",
     "text": [
      "True\n"
     ]
    }
   ],
   "source": [
    "sets_1= {'Maths','Biology','Maths1','Biology2','Biology2'}   # A list is a collection of ordered data.\n",
    "                                                   \n",
    "                      # it is not represent a same value so the biology2 are not found in output\n",
    "\n",
    "                      #   esme apn condisition used kr skte hai                              \n",
    "print('Biology' in sets_1)"
   ]
  },
  {
   "cell_type": "code",
   "execution_count": 106,
   "metadata": {},
   "outputs": [
    {
     "name": "stdout",
     "output_type": "stream",
     "text": [
      "{'Biology2', 'Maths1', 'Maths', 'Biology'}\n"
     ]
    }
   ],
   "source": [
    "sets_1= {'Maths','Biology','Maths1','Biology2','Biology2'}  \n",
    "sets_2= {'Maths','Biology','Maths1','Biology2','Biology2'}  # A list is a collection of ordered data.\n",
    "                                                   \n",
    "                      # it is not represent a same value so the biology2 are not found in output\n",
    "\n",
    "                      #   esme apn condisition used kr skte hai     \n",
    "                      # COMMAN FIND OUT KRNE KE LIYE                          \n",
    "print( sets_1.intersection(sets_2))\n",
    "\n"
   ]
  },
  {
   "cell_type": "code",
   "execution_count": 115,
   "metadata": {},
   "outputs": [
    {
     "name": "stdout",
     "output_type": "stream",
     "text": [
      "{'Biology8'}\n"
     ]
    }
   ],
   "source": [
    "sets_1= {'Maths','Biology','Maths1','Biology3','Biology8'}  \n",
    "sets_2= {'Maths','Biology','Maths1','Biology3','Biology3'}  # A list is a collection of ordered data.\n",
    "                                                   \n",
    "                      # it is not represent a same value so the biology2 are not found in output\n",
    "\n",
    "                      #   esme apn condisition used kr skte hai     \n",
    "                      # COMMAN FIND OUT KRNE KE LIYE                          \n",
    "                      # DIFFERENCE FIND OUT KRNE LIYE\n",
    "print( sets_1.difference(sets_2))\n",
    "\n",
    "\n"
   ]
  },
  {
   "cell_type": "code",
   "execution_count": 117,
   "metadata": {},
   "outputs": [
    {
     "name": "stdout",
     "output_type": "stream",
     "text": [
      "{'Biology8', 'Maths1', 'Biology3', 'Maths', 'Biology'}\n"
     ]
    }
   ],
   "source": [
    "sets_1= {'Maths','Biology','Maths1','Biology3','Biology8'}  \n",
    "sets_2= {'Maths','Biology','Maths1','Biology3','Biology3'}  # A list is a collection of ordered data.\n",
    "                                                   \n",
    "                      # it is not represent a same value so the biology2 are not found in output\n",
    "\n",
    "                      #   esme apn condisition used kr skte hai     \n",
    "                      # COMMAN FIND OUT KRNE KE LIYE                          \n",
    "                      # DIFFERENCE FIND OUT KRNE LIYE\n",
    "print( sets_1.union(sets_2)) # union find out krne ke liye\n",
    "\n",
    "\n",
    "\n"
   ]
  },
  {
   "cell_type": "code",
   "execution_count": null,
   "metadata": {},
   "outputs": [],
   "source": []
  }
 ],
 "metadata": {
  "kernelspec": {
   "display_name": "Python 3",
   "language": "python",
   "name": "python3"
  },
  "language_info": {
   "codemirror_mode": {
    "name": "ipython",
    "version": 3
   },
   "file_extension": ".py",
   "mimetype": "text/x-python",
   "name": "python",
   "nbconvert_exporter": "python",
   "pygments_lexer": "ipython3",
   "version": "3.10.11"
  },
  "orig_nbformat": 4
 },
 "nbformat": 4,
 "nbformat_minor": 2
}
