{
 "cells": [
  {
   "cell_type": "markdown",
   "metadata": {},
   "source": [
    "This code captures video from the camera, detects faces in the frames, and adjusts the servo motor's angle to track the detected face. It stops when you press 'q' in the OpenCV window."
   ]
  },
  {
   "cell_type": "code",
   "execution_count": 10,
   "metadata": {},
   "outputs": [
    {
     "name": "stdout",
     "output_type": "stream",
     "text": [
      "Collecting RPi.GPIO\n",
      "  Using cached RPi.GPIO-0.7.1.tar.gz (29 kB)\n",
      "  Preparing metadata (setup.py): started\n",
      "  Preparing metadata (setup.py): finished with status 'done'\n",
      "Building wheels for collected packages: RPi.GPIO\n",
      "  Building wheel for RPi.GPIO (setup.py): started\n",
      "  Building wheel for RPi.GPIO (setup.py): finished with status 'error'\n",
      "  Running setup.py clean for RPi.GPIO\n",
      "Failed to build RPi.GPIO\n"
     ]
    },
    {
     "name": "stderr",
     "output_type": "stream",
     "text": [
      "  error: subprocess-exited-with-error\n",
      "  \n",
      "  × python setup.py bdist_wheel did not run successfully.\n",
      "  │ exit code: 1\n",
      "  ╰─> [12 lines of output]\n",
      "      running bdist_wheel\n",
      "      running build\n",
      "      running build_py\n",
      "      creating build\n",
      "      creating build\\lib.win-amd64-cpython-310\n",
      "      creating build\\lib.win-amd64-cpython-310\\RPi\n",
      "      copying RPi\\__init__.py -> build\\lib.win-amd64-cpython-310\\RPi\n",
      "      creating build\\lib.win-amd64-cpython-310\\RPi\\GPIO\n",
      "      copying RPi\\GPIO\\__init__.py -> build\\lib.win-amd64-cpython-310\\RPi\\GPIO\n",
      "      running build_ext\n",
      "      building 'RPi._GPIO' extension\n",
      "      error: Microsoft Visual C++ 14.0 or greater is required. Get it with \"Microsoft C++ Build Tools\": https://visualstudio.microsoft.com/visual-cpp-build-tools/\n",
      "      [end of output]\n",
      "  \n",
      "  note: This error originates from a subprocess, and is likely not a problem with pip.\n",
      "  ERROR: Failed building wheel for RPi.GPIO\n",
      "ERROR: Could not build wheels for RPi.GPIO, which is required to install pyproject.toml-based projects\n",
      "\n",
      "[notice] A new release of pip is available: 23.1.2 -> 23.2.1\n",
      "[notice] To update, run: python.exe -m pip install --upgrade pip\n"
     ]
    }
   ],
   "source": [
    "\n",
    "!python -m  pip install RPi.GPIO"
   ]
  },
  {
   "cell_type": "code",
   "execution_count": 11,
   "metadata": {},
   "outputs": [
    {
     "ename": "ModuleNotFoundError",
     "evalue": "No module named 'RPi'",
     "output_type": "error",
     "traceback": [
      "\u001b[1;31m---------------------------------------------------------------------------\u001b[0m",
      "\u001b[1;31mModuleNotFoundError\u001b[0m                       Traceback (most recent call last)",
      "Cell \u001b[1;32mIn[11], line 2\u001b[0m\n\u001b[0;32m      1\u001b[0m \u001b[39mimport\u001b[39;00m \u001b[39mcv2\u001b[39;00m\n\u001b[1;32m----> 2\u001b[0m \u001b[39mimport\u001b[39;00m \u001b[39mRPi\u001b[39;00m\u001b[39m.\u001b[39;00m\u001b[39mGPIO\u001b[39;00m \u001b[39mas\u001b[39;00m \u001b[39mGPIO\u001b[39;00m  \u001b[39m# For Raspberry Pi\u001b[39;00m\n\u001b[0;32m      4\u001b[0m \u001b[39m# Initialize GPIO (for Raspberry Pi)\u001b[39;00m\n\u001b[0;32m      5\u001b[0m GPIO\u001b[39m.\u001b[39msetmode(GPIO\u001b[39m.\u001b[39mBOARD)\n",
      "\u001b[1;31mModuleNotFoundError\u001b[0m: No module named 'RPi'"
     ]
    }
   ],
   "source": [
    "import cv2\n",
    "import RPi.GPIO as GPIO  # For Raspberry Pi\n",
    "\n",
    "# Initialize GPIO (for Raspberry Pi)\n",
    "GPIO.setmode(GPIO.BOARD)\n",
    "servo_pin = 18  # GPIO pin for servo motor control\n",
    "GPIO.setup(servo_pin, GPIO.OUT)\n",
    "servo = GPIO.PWM(servo_pin, 50)  # PWM frequency: 50Hz\n",
    "servo.start(0)  # Start with duty cycle of 0\n",
    "\n",
    "# Initialize the face detection cascade\n",
    "face_cascade = cv2.CascadeClassifier('haarcascade_frontalface_default.xml')\n",
    "\n",
    "# Initialize the camera\n",
    "cap = cv2.VideoCapture(0)\n",
    "\n",
    "# Set initial servo angle\n",
    "current_angle = 90  # 90 degrees is the center position\n",
    "servo.ChangeDutyCycle(current_angle / 18 + 2)\n",
    "\n",
    "try:\n",
    "    while True:\n",
    "        ret, frame = cap.read()\n",
    "        if not ret:\n",
    "            break\n",
    "\n",
    "        # Convert the frame to grayscale for face detection\n",
    "        gray = cv2.cvtColor(frame, cv2.COLOR_BGR2GRAY)\n",
    "\n",
    "        # Detect faces in the frame\n",
    "        faces = face_cascade.detectMultiScale(gray, scaleFactor=1.1, minNeighbors=5, minSize=(30, 30))\n",
    "\n",
    "        for (x, y, w, h) in faces:\n",
    "            # Calculate the center of the detected face\n",
    "            center_x = x + w // 2\n",
    "            center_y = y + h // 2\n",
    "\n",
    "            # Calculate the angle to move the servo\n",
    "            angle = ((center_x / frame.shape[1]) - 0.5) * 90\n",
    "\n",
    "            # Update the servo position\n",
    "            servo.ChangeDutyCycle(angle / 18 + 2)\n",
    "\n",
    "            # Draw a rectangle around the detected face\n",
    "            cv2.rectangle(frame, (x, y), (x + w, y + h), (0, 255, 0), 2)\n",
    "\n",
    "        # Display the frame\n",
    "        cv2.imshow('Face Recognition', frame)\n",
    "\n",
    "        if cv2.waitKey(1) & 0xFF == ord('q'):\n",
    "            break\n",
    "finally:\n",
    "    # Cleanup\n",
    "    servo.stop()\n",
    "    GPIO.cleanup()  # Release GPIO resources\n",
    "    cap.release()\n",
    "    cv2.destroyAllWindows()"
   ]
  },
  {
   "cell_type": "code",
   "execution_count": null,
   "metadata": {},
   "outputs": [],
   "source": []
  }
 ],
 "metadata": {
  "kernelspec": {
   "display_name": "Python 3",
   "language": "python",
   "name": "python3"
  },
  "language_info": {
   "codemirror_mode": {
    "name": "ipython",
    "version": 3
   },
   "file_extension": ".py",
   "mimetype": "text/x-python",
   "name": "python",
   "nbconvert_exporter": "python",
   "pygments_lexer": "ipython3",
   "version": "3.10.11"
  },
  "orig_nbformat": 4
 },
 "nbformat": 4,
 "nbformat_minor": 2
}
