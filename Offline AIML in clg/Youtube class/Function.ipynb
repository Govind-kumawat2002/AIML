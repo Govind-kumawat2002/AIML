{
 "cells": [
  {
   "cell_type": "code",
   "execution_count": 99,
   "metadata": {},
   "outputs": [
    {
     "name": "stdout",
     "output_type": "stream",
     "text": [
      "Hello Baby\n",
      "Hello Baby\n",
      "Hello Baby\n"
     ]
    }
   ],
   "source": [
    "def Hellofunction():\n",
    "    print('Hello Baby')   # jb apn ko koi block ki need or bar bar so tb apn function used krte hai\n",
    "Hellofunction()    # example \n",
    "                    \n",
    "Hellofunction()     # example \n",
    "Hellofunction()\n"
   ]
  },
  {
   "cell_type": "code",
   "execution_count": 100,
   "metadata": {},
   "outputs": [
    {
     "name": "stdout",
     "output_type": "stream",
     "text": [
      "Hello Baby\n"
     ]
    }
   ],
   "source": [
    "def Hellofunction():\n",
    "    return('Hello Baby') # return me value dene ke liye  \n",
    "print(Hellofunction()) "
   ]
  },
  {
   "cell_type": "code",
   "execution_count": 101,
   "metadata": {},
   "outputs": [
    {
     "name": "stdout",
     "output_type": "stream",
     "text": [
      "hiiFunction.\n"
     ]
    }
   ],
   "source": [
    "def Hellofunction(greeting):\n",
    "    return'{}Function.'.format(greeting) # return me value dene ke liye  \n",
    "print(Hellofunction('hii')) "
   ]
  },
  {
   "cell_type": "code",
   "execution_count": 102,
   "metadata": {},
   "outputs": [
    {
     "name": "stdout",
     "output_type": "stream",
     "text": [
      "Radhey Radhey govind.\n",
      "Radhey Radhey punit sir .\n",
      "Radhey Radhey govind.\n"
     ]
    }
   ],
   "source": [
    "def Hellofunction(name):\n",
    "    return('Radhey Radhey {}.').format(name) # curly brekit agr aage ho to any aggument aage aajata hai  \n",
    "print(Hellofunction('govind'))               # curly brekit agr piche  ho to any aggument piche aajata hai\n",
    "print(Hellofunction('punit sir ')) \n",
    "print(Hellofunction('govind'))    #agr fun me kuch change krna ho to "
   ]
  },
  {
   "cell_type": "code",
   "execution_count": 103,
   "metadata": {},
   "outputs": [
    {
     "name": "stdout",
     "output_type": "stream",
     "text": [
      "hello govind\n",
      "hello punit sir\n"
     ]
    }
   ],
   "source": [
    "def Hellofunction(name):    #agr fun me kuch change krna ho to  \n",
    "    print('hello',name)\n",
    "Hellofunction('govind')\n",
    "Hellofunction('punit sir')    "
   ]
  },
  {
   "cell_type": "code",
   "execution_count": 104,
   "metadata": {},
   "outputs": [
    {
     "name": "stdout",
     "output_type": "stream",
     "text": [
      "My name govind, and age 20 .  \n",
      "My name Aadi, and age 20 .  \n",
      "My name prii, and age 20 .  \n"
     ]
    }
   ],
   "source": [
    "def main(name,age='20'):\n",
    "    return('My name {}, and age {} .  ').format(name,age )\n",
    "print( main('govind'))\n",
    "print(main('Aadi'))\n",
    "print(main('prii'))"
   ]
  },
  {
   "cell_type": "code",
   "execution_count": 107,
   "metadata": {},
   "outputs": [],
   "source": [
    "def sum(*args,**kwargs):\n",
    "    print(args)\n",
    "    print(kwargs)\n",
    "    \n",
    "    aajaa=['mt aa','aaja r']\n",
    "    Students = {'name':'Govind','age':'20','Result':'Fail' } \n",
    "    sum(*aajaa,**Students)\n",
    "   \n",
    "    "
   ]
  },
  {
   "cell_type": "code",
   "execution_count": 106,
   "metadata": {},
   "outputs": [
    {
     "name": "stdout",
     "output_type": "stream",
     "text": [
      "hello \n"
     ]
    }
   ],
   "source": [
    "print('hello ')"
   ]
  },
  {
   "cell_type": "code",
   "execution_count": 16,
   "metadata": {},
   "outputs": [
    {
     "ename": "NameError",
     "evalue": "name 'main' is not defined",
     "output_type": "error",
     "traceback": [
      "\u001b[1;31m---------------------------------------------------------------------------\u001b[0m",
      "\u001b[1;31mNameError\u001b[0m                                 Traceback (most recent call last)",
      "Cell \u001b[1;32mIn[16], line 12\u001b[0m\n\u001b[0;32m     10\u001b[0m         \u001b[39mreturn\u001b[39;00m \u001b[39m29\u001b[39m\n\u001b[0;32m     11\u001b[0m     \u001b[39mreturn\u001b[39;00m months_day[month]\n\u001b[1;32m---> 12\u001b[0m \u001b[39mprint\u001b[39m(day_inmonth(\u001b[39m2020\u001b[39;49m,\u001b[39m2\u001b[39;49m))\n",
      "Cell \u001b[1;32mIn[16], line 9\u001b[0m, in \u001b[0;36mday_inmonth\u001b[1;34m(year, month)\u001b[0m\n\u001b[0;32m      7\u001b[0m \u001b[39mif\u001b[39;00m \u001b[39mnot\u001b[39;00m \u001b[39m1\u001b[39m \u001b[39m<\u001b[39m\u001b[39m=\u001b[39mmonth\u001b[39m<\u001b[39m\u001b[39m=\u001b[39m\u001b[39m12\u001b[39m:\n\u001b[0;32m      8\u001b[0m     \u001b[39mreturn\u001b[39;00m\u001b[39m'\u001b[39m\u001b[39minvalid month\u001b[39m\u001b[39m'\u001b[39m\n\u001b[1;32m----> 9\u001b[0m \u001b[39mif\u001b[39;00m month \u001b[39m==\u001b[39m \u001b[39m2\u001b[39m \u001b[39mand\u001b[39;00m main(year):\n\u001b[0;32m     10\u001b[0m     \u001b[39mreturn\u001b[39;00m \u001b[39m29\u001b[39m\n\u001b[0;32m     11\u001b[0m \u001b[39mreturn\u001b[39;00m months_day[month]\n",
      "\u001b[1;31mNameError\u001b[0m: name 'main' is not defined"
     ]
    }
   ],
   "source": [
    "# Number of  day per month.first value placeholder for index purpose\n",
    "list[0,31,28,31,30,31,30,31,30,31,31,30,31]\n",
    "\n",
    "def is_leap(year):\n",
    "    return year % 4 ==0 and (year % 100 !=0 or year % 400 == 0)\n",
    "def day_inmonth(year,month):\n",
    "    if not 1 <=month<=12:\n",
    "        return'invalid month'\n",
    "    if month == 2 and main(year):\n",
    "        return 29\n",
    "    return months_day[month]\n",
    "print(day_inmonth(2020,2))\n",
    " "
   ]
  },
  {
   "cell_type": "code",
   "execution_count": null,
   "metadata": {},
   "outputs": [],
   "source": []
  }
 ],
 "metadata": {
  "kernelspec": {
   "display_name": "Python 3",
   "language": "python",
   "name": "python3"
  },
  "language_info": {
   "codemirror_mode": {
    "name": "ipython",
    "version": 3
   },
   "file_extension": ".py",
   "mimetype": "text/x-python",
   "name": "python",
   "nbconvert_exporter": "python",
   "pygments_lexer": "ipython3",
   "version": "3.10.11"
  },
  "orig_nbformat": 4
 },
 "nbformat": 4,
 "nbformat_minor": 2
}
