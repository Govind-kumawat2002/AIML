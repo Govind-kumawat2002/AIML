{
 "cells": [
  {
   "cell_type": "code",
   "execution_count": 1,
   "metadata": {},
   "outputs": [
    {
     "name": "stdout",
     "output_type": "stream",
     "text": [
      "conditional was True\n"
     ]
    }
   ],
   "source": [
    "if True:\n",
    "    print('conditional was True')"
   ]
  },
  {
   "cell_type": "code",
   "execution_count": 3,
   "metadata": {},
   "outputs": [],
   "source": [
    "if False:\n",
    "    print('conditional was True')\n",
    "\n"
   ]
  },
  {
   "cell_type": "code",
   "execution_count": 4,
   "metadata": {},
   "outputs": [
    {
     "name": "stdout",
     "output_type": "stream",
     "text": [
      "conditional was True\n"
     ]
    }
   ],
   "source": [
    "lan = 'python' \n",
    "if lan =='python':\n",
    "    print('conditional was True')\n",
    "\n"
   ]
  },
  {
   "cell_type": "code",
   "execution_count": 11,
   "metadata": {},
   "outputs": [
    {
     "name": "stdout",
     "output_type": "stream",
     "text": [
      "no match\n"
     ]
    }
   ],
   "source": [
    "lan = 'java'  # the our condition is equal to equal\n",
    "if lan =='python':\n",
    "    print('lan is python')\n",
    "else:\n",
    "    print('no match')    "
   ]
  },
  {
   "cell_type": "code",
   "execution_count": 9,
   "metadata": {},
   "outputs": [
    {
     "name": "stdout",
     "output_type": "stream",
     "text": [
      "no match\n"
     ]
    }
   ],
   "source": [
    "lan != 'python'  # the our condition is not equal to equal\n",
    "if lan !='python':\n",
    "    print('lan is python')\n",
    "else:\n",
    "    print('no match')    "
   ]
  },
  {
   "cell_type": "code",
   "execution_count": 16,
   "metadata": {},
   "outputs": [
    {
     "name": "stdout",
     "output_type": "stream",
     "text": [
      "lan is java\n"
     ]
    }
   ],
   "source": [
    "lan = 'java'  # the our condition is not equal to equal\n",
    "if lan =='python':\n",
    "    print('lan is python')\n",
    "elif lan == 'java':\n",
    "    print('lan is java')  \n",
    "elif lan == 'java script':\n",
    "    print('lan is java')          # esme apn 3 condition lga skte hai \n",
    "                                    # ye nhi to ye hogi \n",
    "\n",
    "else:\n",
    "    print('no match')  "
   ]
  },
  {
   "cell_type": "code",
   "execution_count": 18,
   "metadata": {},
   "outputs": [
    {
     "name": "stdout",
     "output_type": "stream",
     "text": [
      "Admine our\n"
     ]
    }
   ],
   "source": [
    "user = 'Admine'\n",
    "logging_page = True\n",
    "if user == 'Admine' and logging_page:\n",
    "    print('Admine our')\n",
    "else:\n",
    "    print('card bad')    "
   ]
  },
  {
   "cell_type": "code",
   "execution_count": 20,
   "metadata": {},
   "outputs": [
    {
     "name": "stdout",
     "output_type": "stream",
     "text": [
      "page logging \n"
     ]
    }
   ],
   "source": [
    "user = 'Admine'\n",
    "logging_page =False\n",
    "if not logging_page:\n",
    "    print('page logging ')\n",
    "else:\n",
    "    print('Welcome') "
   ]
  },
  {
   "cell_type": "code",
   "execution_count": 23,
   "metadata": {},
   "outputs": [
    {
     "name": "stdout",
     "output_type": "stream",
     "text": [
      "True\n"
     ]
    }
   ],
   "source": [
    "a = [1,2,3]\n",
    "b = [1,2,3]\n",
    "print (a == b)  "
   ]
  },
  {
   "cell_type": "code",
   "execution_count": 29,
   "metadata": {},
   "outputs": [
    {
     "name": "stdout",
     "output_type": "stream",
     "text": [
      "2889030623744\n",
      "2889030535168\n",
      "False\n"
     ]
    }
   ],
   "source": [
    "a = [1,2,3]\n",
    "print(id(a))\n",
    "b = [1,2,3]\n",
    "print(id(b))\n",
    "print (a is  b)   # so is condition are used for a =a  (id are difference) \n",
    "                 # so the id a is difference from b  \n"
   ]
  },
  {
   "cell_type": "code",
   "execution_count": 26,
   "metadata": {},
   "outputs": [
    {
     "name": "stdout",
     "output_type": "stream",
     "text": [
      "True\n"
     ]
    }
   ],
   "source": [
    "a = [1,2,3]\n",
    "a = [1,2,3]\n",
    "print (a is  a)   # so is condition are used for a =a"
   ]
  },
  {
   "cell_type": "code",
   "execution_count": null,
   "metadata": {},
   "outputs": [],
   "source": []
  }
 ],
 "metadata": {
  "kernelspec": {
   "display_name": "Python 3",
   "language": "python",
   "name": "python3"
  },
  "language_info": {
   "codemirror_mode": {
    "name": "ipython",
    "version": 3
   },
   "file_extension": ".py",
   "mimetype": "text/x-python",
   "name": "python",
   "nbconvert_exporter": "python",
   "pygments_lexer": "ipython3",
   "version": "3.10.11"
  },
  "orig_nbformat": 4
 },
 "nbformat": 4,
 "nbformat_minor": 2
}
