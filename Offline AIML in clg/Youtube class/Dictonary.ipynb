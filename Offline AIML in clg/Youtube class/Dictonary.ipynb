{
 "cells": [
  {
   "cell_type": "code",
   "execution_count": 1,
   "metadata": {},
   "outputs": [
    {
     "name": "stdout",
     "output_type": "stream",
     "text": [
      "{'name': 'Govind', 'age': '20', 'Result': 'Fail', 'sub': ['Maths', 'Dsa', 'Oops']}\n"
     ]
    }
   ],
   "source": [
    "dict = {'name':'Govind','age':'20','Result':'Fail','sub':['Maths','Dsa','Oops'] }\n",
    "print(dict)"
   ]
  },
  {
   "cell_type": "code",
   "execution_count": 5,
   "metadata": {},
   "outputs": [
    {
     "name": "stdout",
     "output_type": "stream",
     "text": [
      "['Maths', 'Dsa', 'Oops']\n"
     ]
    }
   ],
   "source": [
    "Student = {'name':'Govind','age':'20','Result':'Fail','sub':['Maths','Dsa','Oops'] }\n",
    "print(Student['sub']) #any particular data find krne ke liye"
   ]
  },
  {
   "cell_type": "code",
   "execution_count": 8,
   "metadata": {},
   "outputs": [
    {
     "name": "stdout",
     "output_type": "stream",
     "text": [
      "Govind\n"
     ]
    }
   ],
   "source": [
    "Student = {'name':'Govind','age':'20','Result':'Fail','sub':['Maths','Dsa','Oops'] }\n",
    "print(Student.get('name')) # any item get krne ke liye"
   ]
  },
  {
   "cell_type": "code",
   "execution_count": 14,
   "metadata": {},
   "outputs": [
    {
     "name": "stdout",
     "output_type": "stream",
     "text": [
      "{'name': 'Govind', 'age': '20', 'Result': 'Fail', 'sub': ['Maths', 'Dsa', 'Oops'], 'Phone': '9166780327'}\n"
     ]
    }
   ],
   "source": [
    "Student = {'name':'Govind','age':'20','Result':'Fail','sub':['Maths','Dsa','Oops'] }\n",
    "Student['Phone'] = '9166780327' # add in dictnorey any element\n",
    "print(Student) # any item get krne ke liye"
   ]
  },
  {
   "cell_type": "code",
   "execution_count": 15,
   "metadata": {},
   "outputs": [
    {
     "name": "stdout",
     "output_type": "stream",
     "text": [
      "{'name': 'Govind', 'age': '20', 'Result': 'Fail', 'sub': ['Maths', 'Dsa', 'Oops'], 'Phone': '8293792200'}\n"
     ]
    }
   ],
   "source": [
    "Student = {'name':'Govind','age':'20','Result':'Fail','sub':['Maths','Dsa','Oops'] }\n",
    "Student['Phone'] = '9166780327' # add in dictnorey any element\n",
    "Student['Phone'] = '8293792200'\n",
    "print(Student) # any item get krne ke liye"
   ]
  },
  {
   "cell_type": "code",
   "execution_count": 17,
   "metadata": {},
   "outputs": [
    {
     "name": "stdout",
     "output_type": "stream",
     "text": [
      "5\n"
     ]
    }
   ],
   "source": [
    "Student = {'name':'Govind','age':'20','Result':'Fail','sub':['Maths','Dsa','Oops'] }\n",
    "Student['Phone'] = '9166780327' # add in dictnorey any element\n",
    "Student['Phone'] = '8293792200'\n",
    "print(len(Student)) # find the key in dict.\n"
   ]
  },
  {
   "cell_type": "code",
   "execution_count": 20,
   "metadata": {},
   "outputs": [
    {
     "name": "stdout",
     "output_type": "stream",
     "text": [
      "dict_values(['Govind', '20', 'Fail', ['Maths', 'Dsa', 'Oops']])\n"
     ]
    }
   ],
   "source": [
    "Student = {'name':'Govind','age':'20','Result':'Fail','sub':['Maths','Dsa','Oops'] }\n",
    "\n",
    "print(Student.values()) # find the key in dict.\n"
   ]
  },
  {
   "cell_type": "code",
   "execution_count": 21,
   "metadata": {},
   "outputs": [
    {
     "name": "stdout",
     "output_type": "stream",
     "text": [
      "dict_items([('name', 'Govind'), ('age', '20'), ('Result', 'Fail'), ('sub', ['Maths', 'Dsa', 'Oops'])])\n"
     ]
    }
   ],
   "source": [
    "Student = {'name':'Govind','age':'20','Result':'Fail','sub':['Maths','Dsa','Oops'] }\n",
    "\n",
    "print(Student.items()) # find the key in dict.\n"
   ]
  },
  {
   "cell_type": "code",
   "execution_count": 32,
   "metadata": {},
   "outputs": [
    {
     "name": "stdout",
     "output_type": "stream",
     "text": [
      "0 ('name', 'Govind')\n",
      "1 ('age', '20')\n",
      "2 ('Result', 'Fail')\n",
      "3 ('sub', ['Maths', 'Dsa', 'Oops'])\n"
     ]
    }
   ],
   "source": [
    "Student = {'name':'Govind','age':'20','Result':'Fail','sub':['Maths','Dsa','Oops'] }\n",
    "\n",
    "for  key,value  in enumerate( Student.items() ):\n",
    " print(key,value)\n"
   ]
  },
  {
   "cell_type": "code",
   "execution_count": null,
   "metadata": {},
   "outputs": [],
   "source": []
  }
 ],
 "metadata": {
  "kernelspec": {
   "display_name": "Python 3",
   "language": "python",
   "name": "python3"
  },
  "language_info": {
   "codemirror_mode": {
    "name": "ipython",
    "version": 3
   },
   "file_extension": ".py",
   "mimetype": "text/x-python",
   "name": "python",
   "nbconvert_exporter": "python",
   "pygments_lexer": "ipython3",
   "version": "3.10.11"
  },
  "orig_nbformat": 4
 },
 "nbformat": 4,
 "nbformat_minor": 2
}
