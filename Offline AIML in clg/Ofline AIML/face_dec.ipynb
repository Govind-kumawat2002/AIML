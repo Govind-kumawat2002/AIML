{
 "cells": [
  {
   "cell_type": "code",
   "execution_count": 1,
   "metadata": {},
   "outputs": [],
   "source": [
    "import cv2\n",
    "fd = cv2.CascadeClassifier(cv2.data.haarcascades + \"haarcascade_frontalface_default.xml\")\n",
    "\n",
    "# Video read using web cam\n",
    "vid = cv2.VideoCapture(0)\n",
    "\n",
    "# mai loop to read and show image until we break the loop\n",
    "while True:\n",
    "    flag , img = vid.read()\n",
    "    img_gray =   cv2.cvtColor(img,cv2.COLOR_BGR2GRAY)\n",
    "    # th, img = cv2.threshold(img,50, 255,cv2.THRESH_BINARY )\n",
    "    \n",
    "    # if flag is true then only show image\n",
    "    if flag:\n",
    "        faces = fd.detectMultiScale(img,1.1,5)\n",
    "        for x,y,w,h in faces:\n",
    "             # Draw a rectange on img \n",
    "            cv2.rectangle(img, pt1=(x,y), pt2 = (x+w,y+h), color=(255,0,0), thickness= 3)\n",
    "            \n",
    "        cv2.imshow(\"webcam_image\",img)\n",
    "        key = cv2.waitKey(1)\n",
    "        if key == ord(\"q\"):\n",
    "            break\n",
    "    else:\n",
    "        break\n",
    "cv2.destroyAllWindows()\n",
    "vid.release()"
   ]
  },
  {
   "cell_type": "code",
   "execution_count": null,
   "metadata": {},
   "outputs": [],
   "source": []
  }
 ],
 "metadata": {
  "kernelspec": {
   "display_name": "Python 3",
   "language": "python",
   "name": "python3"
  },
  "language_info": {
   "codemirror_mode": {
    "name": "ipython",
    "version": 3
   },
   "file_extension": ".py",
   "mimetype": "text/x-python",
   "name": "python",
   "nbconvert_exporter": "python",
   "pygments_lexer": "ipython3",
   "version": "3.10.11"
  },
  "orig_nbformat": 4
 },
 "nbformat": 4,
 "nbformat_minor": 2
}
