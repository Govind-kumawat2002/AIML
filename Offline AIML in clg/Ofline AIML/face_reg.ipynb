{
 "cells": [
  {
   "cell_type": "code",
   "execution_count": 1,
   "metadata": {},
   "outputs": [
    {
     "name": "stdout",
     "output_type": "stream",
     "text": [
      "'name'\n",
      "[]\n",
      "[]\n",
      "No face detected in the image.\n",
      "No face detected in the image.\n"
     ]
    }
   ],
   "source": [
    "## FACE REC\n",
    "import cv2\n",
    "import pandas as pd\n",
    "import face_recognition as fr\n",
    "import numpy as np\n",
    "\n",
    "fd = cv2.CascadeClassifier(cv2.data.haarcascades + \"haarcascade_frontalface_default.xml\")\n",
    "filename = \"database.csv\"\n",
    "try:\n",
    "    face_db = pd.read_csv(filename, index_col=0)\n",
    "    data = {\"NAME\": face_db[\"name\"].values.tolist(),\n",
    "            \"ENCODING\": face_db[\"enc\"].values.tolist()}\n",
    "except Exception as e:\n",
    "    print(e)\n",
    "    data = {\"NAME\": [], \"ENCODING\": []}\n",
    "\n",
    "name = data[\"NAME\"]\n",
    "enc = data[\"ENCODING\"]\n",
    "print(name)\n",
    "print(enc)\n",
    "\n",
    "# Video read using web cam\n",
    "vid = cv2.VideoCapture(0)\n",
    "counter = 0\n",
    "captured = True\n",
    "\n",
    "# main loop to read and show image until we break the loop\n",
    "while captured:\n",
    "    flag, img = vid.read()\n",
    "    cropped_face = img\n",
    "    # if flag is true then only show image\n",
    "    if flag:\n",
    "        faces = fd.detectMultiScale(img, 1.1, 5)\n",
    "        for x, y, w, h in faces:\n",
    "            cropped_face = img[y:y + h, x:x + w].copy()\n",
    "\n",
    "            # It will check if face is present in front of cam for 20 frames\n",
    "            if len(faces) == 1:\n",
    "                # Here the Out of index problem is handled by using try and except method\n",
    "                try:\n",
    "                    fresh_face_enc = fr.face_encodings(cropped_face)[0]\n",
    "                    for ind, fe in enumerate(enc):\n",
    "                        matched = fr.compare_faces([fresh_face_enc], np.array(eval(fe)))[0]\n",
    "                        if matched:\n",
    "                            print(\"matched\")\n",
    "                            print(name[ind])\n",
    "                            cv2.putText(img, name[ind], (50, 50), cv2.FONT_HERSHEY_COMPLEX, 1.5, (0, 0, 255), 4)\n",
    "                            cv2.rectangle(img, pt1=(x, y), pt2=(x + w, y + h), color=(0, 0, 255), thickness=2)\n",
    "                        else:\n",
    "                            print(\"not matched\")\n",
    "                except IndexError:\n",
    "                    print(\"No face detected in the image.\")\n",
    "        cv2.imshow(\"webcam_image\", img)\n",
    "        key = cv2.waitKey(1)\n",
    "        if key == ord(\"q\"):\n",
    "            break\n",
    "    else:\n",
    "        break\n",
    "\n",
    "cv2.destroyAllWindows()\n",
    "vid.release()"
   ]
  },
  {
   "cell_type": "code",
   "execution_count": null,
   "metadata": {},
   "outputs": [],
   "source": []
  }
 ],
 "metadata": {
  "kernelspec": {
   "display_name": "Python 3",
   "language": "python",
   "name": "python3"
  },
  "language_info": {
   "codemirror_mode": {
    "name": "ipython",
    "version": 3
   },
   "file_extension": ".py",
   "mimetype": "text/x-python",
   "name": "python",
   "nbconvert_exporter": "python",
   "pygments_lexer": "ipython3",
   "version": "3.10.11"
  },
  "orig_nbformat": 4
 },
 "nbformat": 4,
 "nbformat_minor": 2
}
