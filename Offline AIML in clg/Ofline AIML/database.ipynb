{
 "cells": [
  {
   "cell_type": "code",
   "execution_count": null,
   "metadata": {},
   "outputs": [],
   "source": []
  },
  {
   "cell_type": "code",
   "execution_count": 1,
   "metadata": {},
   "outputs": [
    {
     "name": "stdout",
     "output_type": "stream",
     "text": [
      "CSV file 'database.csv' created successfully.\n"
     ]
    }
   ],
   "source": [
    "import csv\n",
    "\n",
    "# Define the data for recognized faces\n",
    "recognized_faces = [\n",
    "    {\"name\": \"John Doe\", \"id\": 1, \"age\": 30, \"gender\": \"Male\"},\n",
    "    {\"name\": \"Jane Smith\", \"id\": 2, \"age\": 25, \"gender\": \"Female\"},\n",
    "    # Add more recognized faces as needed\n",
    "]\n",
    "\n",
    "# Define the CSV file path\n",
    "csv_file_path = \"database.csv\"\n",
    "\n",
    "# Write the data to the CSV file\n",
    "with open(csv_file_path, mode=\"w\", newline=\"\") as file:\n",
    "    fieldnames = [\"name\", \"id\", \"age\", \"gender\"]  # Define the CSV columns\n",
    "    writer = csv.DictWriter(file, fieldnames=fieldnames)\n",
    "\n",
    "    # Write the header row\n",
    "    writer.writeheader()\n",
    "\n",
    "    # Write data for each recognized face\n",
    "    for face in recognized_faces:\n",
    "        writer.writerow(face)\n",
    "\n",
    "print(f\"CSV file '{csv_file_path}' created successfully.\")\n",
    "\n",
    "\n"
   ]
  },
  {
   "cell_type": "code",
   "execution_count": null,
   "metadata": {},
   "outputs": [],
   "source": []
  }
 ],
 "metadata": {
  "kernelspec": {
   "display_name": "Python 3",
   "language": "python",
   "name": "python3"
  },
  "language_info": {
   "codemirror_mode": {
    "name": "ipython",
    "version": 3
   },
   "file_extension": ".py",
   "mimetype": "text/x-python",
   "name": "python",
   "nbconvert_exporter": "python",
   "pygments_lexer": "ipython3",
   "version": "3.10.11"
  },
  "orig_nbformat": 4
 },
 "nbformat": 4,
 "nbformat_minor": 2
}
