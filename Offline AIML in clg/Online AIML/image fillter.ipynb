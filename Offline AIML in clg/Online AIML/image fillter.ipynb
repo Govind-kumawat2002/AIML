{
 "cells": [
  {
   "cell_type": "code",
   "execution_count": 4,
   "metadata": {},
   "outputs": [],
   "source": [
    "# Get set up\n",
    "import cv2\n",
    "import numpy as np\n",
    "import matplotlib.pyplot as plt\n",
    "\n",
    "#%matplotlib\n",
    "\n",
    "img = cv2.imread(\"011.png\")\n",
    "#img = cv2.cvtColor(img, cv2.COLOR_BGR2RGB) # Fixes color read issue"
   ]
  },
  {
   "cell_type": "code",
   "execution_count": 5,
   "metadata": {},
   "outputs": [
    {
     "ename": "error",
     "evalue": "OpenCV(4.7.0) D:\\a\\opencv-python\\opencv-python\\opencv\\modules\\imgproc\\src\\box_filter.dispatch.cpp:446: error: (-215:Assertion failed) !_src.empty() in function 'cv::boxFilter'\n",
     "output_type": "error",
     "traceback": [
      "\u001b[1;31m---------------------------------------------------------------------------\u001b[0m",
      "\u001b[1;31merror\u001b[0m                                     Traceback (most recent call last)",
      "Cell \u001b[1;32mIn[5], line 1\u001b[0m\n\u001b[1;32m----> 1\u001b[0m av3 \u001b[39m=\u001b[39m cv2\u001b[39m.\u001b[39;49mblur(img,(\u001b[39m3\u001b[39;49m,\u001b[39m3\u001b[39;49m))\n\u001b[0;32m      2\u001b[0m av5 \u001b[39m=\u001b[39m cv2\u001b[39m.\u001b[39mblur(img,(\u001b[39m5\u001b[39m,\u001b[39m5\u001b[39m))\n\u001b[0;32m      4\u001b[0m \u001b[39m# Plot the image. This code is excluded for the rest of the article.\u001b[39;00m\n",
      "\u001b[1;31merror\u001b[0m: OpenCV(4.7.0) D:\\a\\opencv-python\\opencv-python\\opencv\\modules\\imgproc\\src\\box_filter.dispatch.cpp:446: error: (-215:Assertion failed) !_src.empty() in function 'cv::boxFilter'\n"
     ]
    }
   ],
   "source": [
    "av3 = cv2.blur(img,(3,3))\n",
    "av5 = cv2.blur(img,(5,5))\n",
    "\n",
    "# Plot the image. This code is excluded for the rest of the article.\n",
    "plt.gcf().set_size_inches(25,25)\n",
    "plt.subplot(131),plt.imshow(img),plt.title('Original')\n",
    "plt.xticks([]), plt.yticks([])\n",
    "plt.subplot(132),plt.imshow(av3),plt.title('Averaging - 3x3')\n",
    "plt.xticks([]), plt.yticks([])\n",
    "plt.subplot(133),plt.imshow(av5),plt.title('Averaging - 5x5')\n",
    "plt.xticks([]), plt.yticks([])\n",
    "plt.show()"
   ]
  },
  {
   "cell_type": "code",
   "execution_count": null,
   "metadata": {},
   "outputs": [],
   "source": []
  }
 ],
 "metadata": {
  "kernelspec": {
   "display_name": "Python 3",
   "language": "python",
   "name": "python3"
  },
  "language_info": {
   "codemirror_mode": {
    "name": "ipython",
    "version": 3
   },
   "file_extension": ".py",
   "mimetype": "text/x-python",
   "name": "python",
   "nbconvert_exporter": "python",
   "pygments_lexer": "ipython3",
   "version": "3.10.11"
  },
  "orig_nbformat": 4
 },
 "nbformat": 4,
 "nbformat_minor": 2
}
