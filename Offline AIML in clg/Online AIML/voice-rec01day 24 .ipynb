{
 "cells": [
  {
   "attachments": {},
   "cell_type": "markdown",
   "metadata": {},
   "source": [
    "voice Assisent \n",
    "- speech Reconignition\n",
    "- Speech Synthesis\n",
    "- chat bot (Rule based)\n",
    "\n",
    "\n",
    "\n",
    "library \n",
    "1.speed_reconigntion\n",
    "2.pyttsx3\n",
    "3.nltk\n"
   ]
  },
  {
   "cell_type": "code",
   "execution_count": 2,
   "metadata": {},
   "outputs": [],
   "source": [
    "import speech_recognition"
   ]
  },
  {
   "cell_type": "code",
   "execution_count": 3,
   "metadata": {},
   "outputs": [],
   "source": [
    "import pyttsx3"
   ]
  },
  {
   "cell_type": "code",
   "execution_count": 4,
   "metadata": {},
   "outputs": [],
   "source": [
    "import nltk"
   ]
  },
  {
   "cell_type": "code",
   "execution_count": 5,
   "metadata": {},
   "outputs": [],
   "source": [
    "import speech_recognition as sr\n",
    "import pyttsx3"
   ]
  },
  {
   "cell_type": "code",
   "execution_count": 6,
   "metadata": {},
   "outputs": [
    {
     "name": "stderr",
     "output_type": "stream",
     "text": [
      "WARNING: Requirement 'PyAudio-0.2.11-cp39-win_amd64.whl' looks like a filename, but the file does not exist\n",
      "ERROR: PyAudio-0.2.11-cp39-win_amd64.whl is not a valid wheel filename.\n",
      "\n",
      "[notice] A new release of pip is available: 23.1.2 -> 23.2.1\n",
      "[notice] To update, run: python.exe -m pip install --upgrade pip\n"
     ]
    }
   ],
   "source": [
    "!python -m pip install PyAudio-0.2.11-cp39-win_amd64.whl"
   ]
  },
  {
   "cell_type": "code",
   "execution_count": 1,
   "metadata": {},
   "outputs": [
    {
     "ename": "NameError",
     "evalue": "name 'qa_pair' is not defined",
     "output_type": "error",
     "traceback": [
      "\u001b[1;31m---------------------------------------------------------------------------\u001b[0m",
      "\u001b[1;31mNameError\u001b[0m                                 Traceback (most recent call last)",
      "Cell \u001b[1;32mIn[1], line 5\u001b[0m\n\u001b[0;32m      2\u001b[0m \u001b[39mimport\u001b[39;00m \u001b[39mpyttsx3\u001b[39;00m\n\u001b[0;32m      3\u001b[0m \u001b[39mfrom\u001b[39;00m \u001b[39mnltk\u001b[39;00m\u001b[39m.\u001b[39;00m\u001b[39mchat\u001b[39;00m\u001b[39m.\u001b[39;00m\u001b[39mutil\u001b[39;00m \u001b[39mimport\u001b[39;00m Chat\n\u001b[1;32m----> 5\u001b[0m chatbot \u001b[39m=\u001b[39m Chat(qa_pair)\n\u001b[0;32m      6\u001b[0m spk \u001b[39m=\u001b[39m pyttsx3\u001b[39m.\u001b[39minit()\n\u001b[0;32m      7\u001b[0m spk\u001b[39m.\u001b[39msetProperty(\u001b[39m'\u001b[39m\u001b[39mrate\u001b[39m\u001b[39m'\u001b[39m,\u001b[39m150\u001b[39m) \u001b[39m# word per minutes\u001b[39;00m\n",
      "\u001b[1;31mNameError\u001b[0m: name 'qa_pair' is not defined"
     ]
    }
   ],
   "source": [
    "\n",
    "from nltk.chat.util import Chat\n",
    "\n",
    "chatbot = Chat(qa_pair)\n",
    "spk = pyttsx3.init()\n",
    "spk.setProperty('rate',150) # word per minutes\n",
    "spk.setProperty('volume',1.0)  #100% volume\n",
    "rec = sr.Recognizer()\n",
    "with sr.Microphone() as mic:\n",
    "    print('Speak:')\n",
    "    Audio = rec.listen(mic,timeout=1,phrase_time_limit=4)\n",
    "    try:\n",
    "        text = rec.recognize_google(audio)\n",
    "        print('Question',text,end='\\n\\n')\n",
    "        reply=chatbot.respond(text)\n",
    "        print('Answers:',reply)\n",
    "\n",
    "        spk.say(reply)\n",
    "        spk.runAndWait()\n",
    "    except Exception as err:\n",
    "        print('Error:',err,end = '\\n\\n')"
   ]
  },
  {
   "cell_type": "code",
   "execution_count": null,
   "metadata": {},
   "outputs": [],
   "source": []
  }
 ],
 "metadata": {
  "kernelspec": {
   "display_name": "Python 3",
   "language": "python",
   "name": "python3"
  },
  "language_info": {
   "codemirror_mode": {
    "name": "ipython",
    "version": 3
   },
   "file_extension": ".py",
   "mimetype": "text/x-python",
   "name": "python",
   "nbconvert_exporter": "python",
   "pygments_lexer": "ipython3",
   "version": "3.10.11"
  },
  "orig_nbformat": 4
 },
 "nbformat": 4,
 "nbformat_minor": 2
}
