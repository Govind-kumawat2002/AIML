{
 "cells": [
  {
   "cell_type": "code",
   "execution_count": 1,
   "metadata": {},
   "outputs": [],
   "source": [
    "import nltk   # it is use for chatbot Ex  ke tor pe google assistent i mein ye apn ko qestion ka answer deta hai\n"
   ]
  },
  {
   "cell_type": "code",
   "execution_count": 2,
   "metadata": {},
   "outputs": [],
   "source": [
    "#rule based chatbot  (comman product ) domine hota hai jisko apn bna skte hai \n",
    "# chat gpt many data upload in plateform (bhut sare log milkar bnate hai)"
   ]
  },
  {
   "cell_type": "code",
   "execution_count": 3,
   "metadata": {},
   "outputs": [],
   "source": [
    "from nltk.chat.util import Chat, reflections #(libraray) chat name ki class jisme apn kuch question \n",
    "                                              # set krenge jinke apn ans find krege by this library"
   ]
  },
  {
   "cell_type": "code",
   "execution_count": 4,
   "metadata": {},
   "outputs": [],
   "source": [
    " # kuch probleble qustion and unke ans \n",
    "#question ans pairs\n",
    "que1 = r'how are you'                                       # (r) raw string (kuch bhi likhne pr vha indivial kam m me hi leg  (\\n) for new line) , f-string, b-string\n",
    "answers1 = [     'all well',    'I am good',    'awesome' ]\n",
    "\n",
    "que2 = r'what can you do'\n",
    "answers2 = [    'I can reply to your queries',    'I am here to answer your questions',    'I can chat with you' ]\n",
    "\n",
    "que3 = r'(.*)your name'\n",
    "answers3 = [    'my name is chatty',    'I am chatty' ]\n",
    "\n",
    "que4 = r'(.*)mausam(.*)ba[a]*rish'  # aaj mausam kaisa hai, kya baarish hogi?\n",
    "answers4 = [    'it looks it will rain today',    'baarish ka mausam hai',  'baarish ho sakti hai mausam kharab hai']\n",
    "\n",
    "# Question Answer Pairs\n",
    "qa_pair = [                  # ye pair hote hai question or ans ki \n",
    "    (que1, answers1), # question 1 and multiple ans.\n",
    "    (que2, answers2),\n",
    "    (que3, answers3),\n",
    "    (que4, answers4),\n",
    "]\n",
    "chatbot = Chat(qa_pair)\n"
   ]
  },
  {
   "cell_type": "code",
   "execution_count": 5,
   "metadata": {},
   "outputs": [
    {
     "name": "stdout",
     "output_type": "stream",
     "text": [
      "Q: kya aaj barsat hogi \n",
      "A: None\n"
     ]
    }
   ],
   "source": [
    "question = input('Enter your question:') # qustion pucho\n",
    "print('Q:', question)  # question ke aage q \n",
    "reply = chatbot.respond(question) #ans do from chatbot \n",
    "print('A:',reply) # ans ke aage A"
   ]
  },
  {
   "cell_type": "code",
   "execution_count": null,
   "metadata": {},
   "outputs": [],
   "source": []
  }
 ],
 "metadata": {
  "kernelspec": {
   "display_name": "Python 3",
   "language": "python",
   "name": "python3"
  },
  "language_info": {
   "codemirror_mode": {
    "name": "ipython",
    "version": 3
   },
   "file_extension": ".py",
   "mimetype": "text/x-python",
   "name": "python",
   "nbconvert_exporter": "python",
   "pygments_lexer": "ipython3",
   "version": "3.10.11"
  },
  "orig_nbformat": 4
 },
 "nbformat": 4,
 "nbformat_minor": 2
}
