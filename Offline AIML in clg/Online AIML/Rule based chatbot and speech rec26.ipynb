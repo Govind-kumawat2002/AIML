{
 "cells": [
  {
   "cell_type": "code",
   "execution_count": 1,
   "metadata": {},
   "outputs": [],
   "source": [
    "import nltk"
   ]
  },
  {
   "cell_type": "code",
   "execution_count": 2,
   "metadata": {},
   "outputs": [],
   "source": [
    "\n",
    "\n",
    "\n",
    "\n",
    "# - Rule Based Chatbot (Common Product)\n",
    "\n",
    "# - Chat GPT\n"
   ]
  },
  {
   "cell_type": "code",
   "execution_count": 3,
   "metadata": {},
   "outputs": [],
   "source": [
    "from nltk.chat.util import Chat, reflections"
   ]
  },
  {
   "cell_type": "code",
   "execution_count": 4,
   "metadata": {},
   "outputs": [],
   "source": [
    "que1 = r'how are you'  # raw string, f-string, b-string\n",
    "answers1 = [     'all well',    'I am good',    'awesome' ]\n",
    "\n",
    "que2 = r'what can you do'\n",
    "answers2 = [    'I can reply to your queries',    'I am here to answer your questions',    'I can chat with you' ]\n",
    "\n",
    "que3 = r'(.*)your name'\n",
    "answers3 = [    'my name is chatty',    'I am chatty' ]\n",
    "\n",
    "que4 = r'(.*)mausam(.*)ba[a]*rish'  # aaj mausam kaisa hai, kya baarish hogi?\n",
    "answers4 = [    'it looks it will rain today',    'baarish ka mausam hai',  'baarish ho sakti hai mausam kharab hai']\n",
    "\n",
    "# Question Answer Pairs\n",
    "qa_pair = [\n",
    "    (que1, answers1),\n",
    "    (que2, answers2),\n",
    "    (que3, answers3),\n",
    "    (que4, answers4),\n",
    "]\n",
    "chatbot = Chat(qa_pair)"
   ]
  },
  {
   "cell_type": "code",
   "execution_count": 5,
   "metadata": {},
   "outputs": [
    {
     "name": "stdout",
     "output_type": "stream",
     "text": [
      "Q: how are you\n",
      "A: awesome\n"
     ]
    }
   ],
   "source": [
    "question = input('Enter your question:')\n",
    "print('Q:', question)\n",
    "reply = chatbot.respond(question)\n",
    "print('A:',reply)"
   ]
  },
  {
   "attachments": {},
   "cell_type": "markdown",
   "metadata": {},
   "source": [
    "# Regular Expression Symbols\n",
    "() Group . Any character (except new line)\n",
    "\n",
    "  zero or more occurrences\n",
    "[] set of characters a-z all small alphabet A-Z All caps alphabet 0-9 all numbers ^ starting with $ ends with ? zero or one occurrence only\n",
    "\n",
    "  one or more occurrence\n",
    "{} exact number of occurrence \\w only word characters (alphabet, numbers and underscore) \\W not word characters"
   ]
  },
  {
   "cell_type": "code",
   "execution_count": 15,
   "metadata": {},
   "outputs": [
    {
     "name": "stdout",
     "output_type": "stream",
     "text": [
      "Speak:\n",
      "Question: kya aaj Barish Hogi\n",
      "\n",
      "Answer: None\n"
     ]
    }
   ],
   "source": [
    "import speech_recognition as sr\n",
    "import pyttsx3\n",
    "from nltk.chat.util import Chat\n",
    "\n",
    "chatbot = Chat(qa_pair)\n",
    "\n",
    "spk = pyttsx3.init()\n",
    "spk.setProperty('rate', 150)    # words per minute\n",
    "spk.setProperty('volume', 1.0)  # 100% volume\n",
    "\n",
    "rec = sr.Recognizer()\n",
    "\n",
    "with sr.Microphone() as mic:\n",
    "    print('Speak:')\n",
    "    audio = rec.listen(mic, timeout=1, phrase_time_limit=4)\n",
    "    \n",
    "    try:\n",
    "        text = rec.recognize_google(audio)        \n",
    "        print('Question:', text, end='\\n\\n')\n",
    "\n",
    "        reply = chatbot.respond(text)\n",
    "        print('Answer:', reply)\n",
    "        spk.say(reply)\n",
    "        spk.runAndWait()\n",
    "    except Exception as err:\n",
    "        print('Error:', err, end = '\\n\\n')\n"
   ]
  },
  {
   "cell_type": "code",
   "execution_count": null,
   "metadata": {},
   "outputs": [],
   "source": [
    "## pythonanywhere.com"
   ]
  }
 ],
 "metadata": {
  "kernelspec": {
   "display_name": "Python 3",
   "language": "python",
   "name": "python3"
  },
  "language_info": {
   "codemirror_mode": {
    "name": "ipython",
    "version": 3
   },
   "file_extension": ".py",
   "mimetype": "text/x-python",
   "name": "python",
   "nbconvert_exporter": "python",
   "pygments_lexer": "ipython3",
   "version": "3.10.11"
  },
  "orig_nbformat": 4
 },
 "nbformat": 4,
 "nbformat_minor": 2
}
